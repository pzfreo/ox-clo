{
 "cells": [
  {
   "cell_type": "code",
   "execution_count": 2,
   "metadata": {
    "collapsed": false,
    "deletable": true,
    "editable": true
   },
   "outputs": [
    {
     "name": "stdout",
     "output_type": "stream",
     "text": [
      "+----------+--------------------+--------------+----------------+-----------------+---------------------+---------------------------+------------------+-------------------------+----------------------------+\n",
      "|Station_ID|        Station_Name|Location_Label|Interval_Minutes|Interval_End_Time|Wind_Velocity_Mtr_Sec|Wind_Direction_Variance_Deg|Wind_Direction_Deg|Ambient_Temperature_Deg_C|Global_Horizontal_Irradiance|\n",
      "+----------+--------------------+--------------+----------------+-----------------+---------------------+---------------------------+------------------+-------------------------+----------------------------+\n",
      "|      SF15|Warnerville Switc...|   Warnerville|               5| 2015-01-5? 00:05|                1.628|                        8.1|             148.5|                     0.92|                       0.061|\n",
      "|      SF15|Warnerville Switc...|   Warnerville|               5| 2015-01-5? 00:10|                1.519|                        9.4|             151.1|                    0.717|                       0.064|\n",
      "|      SF15|Warnerville Switc...|   Warnerville|               5| 2015-01-5? 00:15|                1.482|                        8.7|             142.7|                    0.627|                       0.059|\n",
      "|      SF15|Warnerville Switc...|   Warnerville|               5| 2015-01-5? 00:20|                1.985|                      6.895|             141.8|                      0.5|                       0.062|\n",
      "+----------+--------------------+--------------+----------------+-----------------+---------------------+---------------------------+------------------+-------------------------+----------------------------+\n",
      "only showing top 4 rows\n",
      "\n"
     ]
    }
   ],
   "source": [
    "from pyspark.sql import SQLContext\n",
    "sqlc = SQLContext(sc)\n",
    "df = sqlc.read.csv('s3a://oxclo-wind/2015/*', header='true', inferSchema='true')\n",
    "df.show(4)"
   ]
  },
  {
   "cell_type": "code",
   "execution_count": 3,
   "metadata": {
    "collapsed": true,
    "deletable": true,
    "editable": true
   },
   "outputs": [],
   "source": [
    "df.registerTempTable('wind')"
   ]
  },
  {
   "cell_type": "code",
   "execution_count": 5,
   "metadata": {
    "collapsed": false,
    "deletable": true,
    "editable": true
   },
   "outputs": [
    {
     "name": "stdout",
     "output_type": "stream",
     "text": [
      "+----------+------------------+-----+\n",
      "|Station_ID|               avg|  max|\n",
      "+----------+------------------+-----+\n",
      "|      SF37| 2.260403505500663|7.079|\n",
      "|      SF15|1.8214145677504483| 7.92|\n",
      "|      SF04| 2.300981748124102|34.12|\n",
      "|      SF17|0.5183500253485376|5.767|\n",
      "|      SF18|2.2202234391695437|10.57|\n",
      "|      SF36| 2.464172530911313|11.05|\n",
      "+----------+------------------+-----+\n",
      "\n"
     ]
    }
   ],
   "source": [
    "sqlc.sql(\"Select Station_ID, avg(Wind_Velocity_Mtr_Sec) as avg, max(Wind_Velocity_Mtr_sec) as max from wind group by Station_ID\").show()\n"
   ]
  }
 ],
 "metadata": {
  "kernelspec": {
   "display_name": "Python 2",
   "language": "python",
   "name": "python2"
  },
  "language_info": {
   "codemirror_mode": {
    "name": "ipython",
    "version": 2
   },
   "file_extension": ".py",
   "mimetype": "text/x-python",
   "name": "python",
   "nbconvert_exporter": "python",
   "pygments_lexer": "ipython2",
   "version": "2.7.16"
  }
 },
 "nbformat": 4,
 "nbformat_minor": 2
}
