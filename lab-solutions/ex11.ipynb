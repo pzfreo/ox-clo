{
 "cells": [
  {
   "cell_type": "code",
   "execution_count": 28,
   "metadata": {
    "collapsed": false
   },
   "outputs": [],
   "source": [
    "from pyspark.sql.functions import from_utc_timestamp\n",
    "from pyspark.sql.functions import regexp_replace\n",
    "from pyspark.sql import SQLContext\n",
    "sqlc = SQLContext(sc)\n",
    "\n",
    "df = sqlc.read.format('com.databricks.spark.csv').\\\n",
    "options(header='true', inferschema='true').\\\n",
    "load('file:///home/oxclo/datafiles/wind/*')\n",
    "\n",
    "df = df.withColumn('Interval_End_Time',\\\n",
    "                   from_utc_timestamp(regexp_replace(df.Interval_End_Time, '(.*)\\\\? (.*)', '$1 $2'), 'utc'))\n",
    "\n",
    "df = df.withColumnRenamed('Station_ID', 'stationid')\\\n",
    ".withColumnRenamed('Interval_End_Time', 'time')\\\n",
    ".withColumnRenamed('Wind_Direction_Deg', 'direction')\\\n",
    ".withColumnRenamed('Ambient_Temperature_Deg_C', 'temp')\\\n",
    ".withColumnRenamed('Wind_Velocity_Mtr_Sec', 'velocity')\n",
    "\n",
    "df.select(df.stationid, df.time, df.direction, df.temp, df.velocity)\\\n",
    ".write.format(\"org.apache.spark.sql.cassandra\").mode('append').options(table=\"winddata\", keyspace=\"wind\").save()\n"
   ]
  }
 ],
 "metadata": {
  "kernelspec": {
   "display_name": "Python 2",
   "language": "python",
   "name": "python2"
  },
  "language_info": {
   "codemirror_mode": {
    "name": "ipython",
    "version": 2
   },
   "file_extension": ".py",
   "mimetype": "text/x-python",
   "name": "python",
   "nbconvert_exporter": "python",
   "pygments_lexer": "ipython2",
   "version": "2.7.16"
  }
 },
 "nbformat": 4,
 "nbformat_minor": 2
}
