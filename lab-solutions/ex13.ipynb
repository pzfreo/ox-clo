{
 "cells": [
  {
   "cell_type": "code",
   "execution_count": 7,
   "metadata": {
    "collapsed": false
   },
   "outputs": [
    {
     "name": "stdout",
     "output_type": "stream",
     "text": [
      "90.0,-120.5\n",
      "37.7504601866,-122.473703105\n",
      "37.7827927436,-122.431124844\n",
      "37.7798298405,-122.408852037\n",
      "37.7338105572,-122.410500962\n"
     ]
    }
   ],
   "source": [
    "from pyspark.sql import SQLContext\n",
    "sqlc = SQLContext(sc)\n",
    "df = sqlc.read.csv('file:///home/oxclo/datafiles/incidents/sfpd.csv', header='true', inferSchema='true')\n",
    "df = df.select(df.Y, df.X)\n",
    "\n",
    "from numpy import array\n",
    "geoarray = df.rdd.map(lambda (y,x): array([y,x]))\n",
    "\n",
    "from pyspark.mllib.clustering import KMeans, KMeansModel\n",
    "numclusters = 5\n",
    "clusters = KMeans.train(geoarray, numclusters, maxIterations=10, runs=10, initializationMode=\"random\")\n",
    "\n",
    "for arr in clusters.centers:\n",
    "    list = arr.tolist()\n",
    "    print str(list[0]) + \",\" + str(list[1])\n",
    "    \n",
    "# Example output:\n",
    "# 37.7404230878,-122.475644308\n",
    "# 37.7364153616,-122.40905349\n",
    "# 90.0,-120.5\n",
    "# 37.7763006544,-122.444078621\n",
    "# 37.782502841,-122.411219809\n",
    "    \n",
    "# Used https://mapmakerapp.com instead of hamstermap.com to plot the geo coordinates\n",
    "\n",
    "\n"
   ]
  }
 ],
 "metadata": {
  "kernelspec": {
   "display_name": "Python 2",
   "language": "python",
   "name": "python2"
  },
  "language_info": {
   "codemirror_mode": {
    "name": "ipython",
    "version": 2
   },
   "file_extension": ".py",
   "mimetype": "text/x-python",
   "name": "python",
   "nbconvert_exporter": "python",
   "pygments_lexer": "ipython2",
   "version": "2.7.16"
  }
 },
 "nbformat": 4,
 "nbformat_minor": 2
}
